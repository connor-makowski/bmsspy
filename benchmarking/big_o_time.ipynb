{
 "cells": [
  {
   "cell_type": "code",
   "execution_count": 29,
   "id": "b5cb29a9",
   "metadata": {},
   "outputs": [],
   "source": [
    "from pamda import pamda"
   ]
  },
  {
   "cell_type": "code",
   "execution_count": 30,
   "id": "bdae5acb",
   "metadata": {},
   "outputs": [],
   "source": [
    "from math import log\n",
    "\n",
    "def bmssp_big_o(n, m):\n",
    "    # BMSSP has a time complexity of O(m log(n)^0.66)\n",
    "    return m * (log(n)**.66)\n",
    "\n",
    "def dijkstra_big_o(n, m):\n",
    "    # Dijkstra's algorithm as implemented in scgraph has a time complexity of O((n + m) log n)\n",
    "    return (m+n)*log(n)"
   ]
  },
  {
   "cell_type": "code",
   "execution_count": 36,
   "id": "ed7e6042",
   "metadata": {},
   "outputs": [
    {
     "name": "stdout",
     "output_type": "stream",
     "text": [
      "1089 0.0955058450209039\n",
      "1089 0.07651320722825761\n",
      "1089 0.0751533613815157\n",
      "2500 0.09229976527096381\n",
      "2500 0.08702917515155519\n",
      "2500 0.09185415656497802\n",
      "10000 0.0884630806546585\n",
      "10000 0.09396390647613466\n",
      "10000 0.09505834965258342\n",
      "40000 0.07886211913413384\n",
      "40000 0.09115290387954267\n",
      "40000 0.08623704256046401\n",
      "160000 0.09641688198262151\n",
      "160000 0.11279192499049989\n",
      "160000 0.1087808709065895\n",
      "640000 0.08406903550978478\n",
      "640000 0.09362595702169524\n",
      "640000 0.08403568383263839\n",
      "2560000 0.08519960556609117\n",
      "2560000 0.09298197743801971\n",
      "2560000 0.09812982823180112\n",
      "10240000 0.08316884482024281\n",
      "10240000 0.09327988993922604\n",
      "10240000 0.08571925764161932\n"
     ]
    }
   ],
   "source": [
    "benchmark_data =pamda.read_csv('./outputs/gridscale_time_tests.csv')\n",
    "\n",
    "for row in benchmark_data:\n",
    "    n_nodes = int(row['graph_nodes'])\n",
    "    n_edges = int(row['graph_edges'])\n",
    "    row['exp_bmssp_to_dijkstra_performance_ratio'] =  bmssp_big_o(n_nodes, n_edges) / dijkstra_big_o(n_nodes, n_edges)\n",
    "    row['real_bmssp_to_dijkstra_performance_ratio'] = float(row['bmssp_spantree_time_ms']) / float(row['sc_dijkstra_spantree_time_ms'])\n",
    "    row['pred_bmssp_breakeven_multiplier'] = row['exp_bmssp_to_dijkstra_performance_ratio'] / row['real_bmssp_to_dijkstra_performance_ratio']\n",
    "    print(row['graph_nodes'], row['pred_bmssp_breakeven_multiplier'])"
   ]
  },
  {
   "cell_type": "code",
   "execution_count": 54,
   "id": "9ee1ebae",
   "metadata": {},
   "outputs": [
    {
     "name": "stdout",
     "output_type": "stream",
     "text": [
      "{'n_magnitude': '1e1', 'connections_per_node': 8, 'bmssp_to_dijkstra_ratio': 0.6694130019924}\n",
      "{'n_magnitude': '1e2', 'connections_per_node': 8, 'bmssp_to_dijkstra_ratio': 0.5288639262724771}\n",
      "{'n_magnitude': '1e3', 'connections_per_node': 8, 'bmssp_to_dijkstra_ratio': 0.4607580342803859}\n",
      "{'n_magnitude': '1e4', 'connections_per_node': 8, 'bmssp_to_dijkstra_ratio': 0.4178243501095243}\n",
      "{'n_magnitude': '1e5', 'connections_per_node': 8, 'bmssp_to_dijkstra_ratio': 0.38729718635052657}\n",
      "{'n_magnitude': '1e6', 'connections_per_node': 8, 'bmssp_to_dijkstra_ratio': 0.36401788185446704}\n",
      "{'n_magnitude': '1e7', 'connections_per_node': 8, 'bmssp_to_dijkstra_ratio': 0.345430602258584}\n",
      "{'n_magnitude': '1e8', 'connections_per_node': 8, 'bmssp_to_dijkstra_ratio': 0.3300984976889915}\n",
      "{'n_magnitude': '1e9', 'connections_per_node': 8, 'bmssp_to_dijkstra_ratio': 0.31714048804259043}\n",
      "{'n_magnitude': '1e10', 'connections_per_node': 8, 'bmssp_to_dijkstra_ratio': 0.30598077718536487}\n",
      "{'n_magnitude': '1e20', 'connections_per_node': 8, 'bmssp_to_dijkstra_ratio': 0.24173745461250137}\n",
      "{'n_magnitude': '1e30', 'connections_per_node': 8, 'bmssp_to_dijkstra_ratio': 0.21060705573973018}\n",
      "{'n_magnitude': '1e40', 'connections_per_node': 8, 'bmssp_to_dijkstra_ratio': 0.19098257576857416}\n",
      "{'n_magnitude': '1e50', 'connections_per_node': 8, 'bmssp_to_dijkstra_ratio': 0.1770289697518971}\n",
      "{'n_magnitude': '1e60', 'connections_per_node': 8, 'bmssp_to_dijkstra_ratio': 0.1663882746042998}\n",
      "{'n_magnitude': '1e70', 'connections_per_node': 8, 'bmssp_to_dijkstra_ratio': 0.15789224862395213}\n",
      "{'n_magnitude': '1e80', 'connections_per_node': 8, 'bmssp_to_dijkstra_ratio': 0.15088412470325116}\n",
      "{'n_magnitude': '1e90', 'connections_per_node': 8, 'bmssp_to_dijkstra_ratio': 0.14496117153296562}\n",
      "{'n_magnitude': '1e100', 'connections_per_node': 8, 'bmssp_to_dijkstra_ratio': 0.13986019950061088}\n",
      "{'n_magnitude': '1e110', 'connections_per_node': 8, 'bmssp_to_dijkstra_ratio': 0.1354006129698951}\n",
      "{'n_magnitude': '1e120', 'connections_per_node': 8, 'bmssp_to_dijkstra_ratio': 0.13145361074706488}\n",
      "{'n_magnitude': '1e130', 'connections_per_node': 8, 'bmssp_to_dijkstra_ratio': 0.12792440439479}\n",
      "{'n_magnitude': '1e140', 'connections_per_node': 8, 'bmssp_to_dijkstra_ratio': 0.12474139923592566}\n",
      "{'n_magnitude': '1e150', 'connections_per_node': 8, 'bmssp_to_dijkstra_ratio': 0.12184932152616308}\n",
      "{'n_magnitude': '1e160', 'connections_per_node': 8, 'bmssp_to_dijkstra_ratio': 0.11920469181991396}\n",
      "{'n_magnitude': '1e170', 'connections_per_node': 8, 'bmssp_to_dijkstra_ratio': 0.11677275057972426}\n",
      "{'n_magnitude': '1e180', 'connections_per_node': 8, 'bmssp_to_dijkstra_ratio': 0.11452531412715619}\n",
      "{'n_magnitude': '1e190', 'connections_per_node': 8, 'bmssp_to_dijkstra_ratio': 0.1124392445596178}\n",
      "{'n_magnitude': '1e200', 'connections_per_node': 8, 'bmssp_to_dijkstra_ratio': 0.11049533549093628}\n",
      "{'n_magnitude': '1e210', 'connections_per_node': 8, 'bmssp_to_dijkstra_ratio': 0.1086774859280491}\n",
      "{'n_magnitude': '1e220', 'connections_per_node': 8, 'bmssp_to_dijkstra_ratio': 0.10697207789784134}\n",
      "{'n_magnitude': '1e230', 'connections_per_node': 8, 'bmssp_to_dijkstra_ratio': 0.10536750078981195}\n",
      "{'n_magnitude': '1e240', 'connections_per_node': 8, 'bmssp_to_dijkstra_ratio': 0.10385378308378886}\n",
      "{'n_magnitude': '1e250', 'connections_per_node': 8, 'bmssp_to_dijkstra_ratio': 0.1024223038443771}\n",
      "{'n_magnitude': '1e260', 'connections_per_node': 8, 'bmssp_to_dijkstra_ratio': 0.10106556426740104}\n",
      "{'n_magnitude': '1e270', 'connections_per_node': 8, 'bmssp_to_dijkstra_ratio': 0.09977700499350231}\n",
      "{'n_magnitude': '1e280', 'connections_per_node': 8, 'bmssp_to_dijkstra_ratio': 0.098550858696024}\n",
      "{'n_magnitude': '1e290', 'connections_per_node': 8, 'bmssp_to_dijkstra_ratio': 0.0973820301383946}\n"
     ]
    }
   ],
   "source": [
    "\n",
    "bmssp_dijkstra_big_o_ratios = []\n",
    "for magnitude in list(range(1,10)) + list(range(10,300,10)):\n",
    "    n = 10**magnitude\n",
    "    connections_per_node = 8\n",
    "    m = connections_per_node*n\n",
    "    out ={\n",
    "        'n_magnitude': f\"1e{magnitude}\",\n",
    "        'connections_per_node': connections_per_node,\n",
    "        'bmssp_to_dijkstra_ratio': bmssp_big_o(n,m)/dijkstra_big_o(n,m)\n",
    "    }\n",
    "    bmssp_dijkstra_big_o_ratios.append(out)\n",
    "    print(out)\n",
    "\n",
    "pamda.write_csv(filename='./outputs/bmssp_dijkstra_big_o_ratios.csv', data=bmssp_dijkstra_big_o_ratios)\n"
   ]
  },
  {
   "cell_type": "code",
   "execution_count": 55,
   "id": "1c0c025f",
   "metadata": {},
   "outputs": [
    {
     "name": "stdout",
     "output_type": "stream",
     "text": [
      "Predicted breakeven at multiplier = 0.09042886128568838\n",
      "Predicted breakeven at n = 1e360.5959356634255 nodes\n"
     ]
    }
   ],
   "source": [
    "from math import exp\n",
    "\n",
    "pred_breakeven_multiplier = sum([row['pred_bmssp_breakeven_multiplier'] for row in benchmark_data]) / len(benchmark_data)\n",
    "print(f\"Predicted breakeven at multiplier = {pred_breakeven_multiplier}\")\n",
    "\n",
    "# TODO: Validate math here.\n",
    "\n",
    "# Math derivation:\n",
    "#\n",
    "# BMSSP(n, m) = m * (ln n)^0.66\n",
    "# Dijkstra(n, m) = (n + m) * ln n\n",
    "#\n",
    "# Assume m = 8n:\n",
    "#   8n * (ln n)^0.66 = p * (9n * ln n)\n",
    "#\n",
    "# Cancel n:\n",
    "#   8 * (ln n)^0.66 = 9p * ln n\n",
    "#\n",
    "# Divide by (ln n)^0.66:\n",
    "#   8 = 9p * (ln n)^0.34\n",
    "#\n",
    "# Solve for ln n:\n",
    "#   (ln n)^0.34 = 8 / (9p)\n",
    "#   ln n = (8 / (9p))^(1/0.34)\n",
    "#\n",
    "# Finally, to get log10(n):\n",
    "#   log10(n) = ln(n) / ln(10)\n",
    "\n",
    "breakeven_magnitude_n = ((8 / (9 * pred_breakeven_multiplier)) ** (1/0.34)) / log(10)\n",
    "\n",
    "print(f\"Predicted breakeven at n = 1e{breakeven_magnitude_n} nodes\")\n"
   ]
  }
 ],
 "metadata": {
  "kernelspec": {
   "display_name": "venv (3.12.3)",
   "language": "python",
   "name": "python3"
  },
  "language_info": {
   "codemirror_mode": {
    "name": "ipython",
    "version": 3
   },
   "file_extension": ".py",
   "mimetype": "text/x-python",
   "name": "python",
   "nbconvert_exporter": "python",
   "pygments_lexer": "ipython3",
   "version": "3.12.3"
  }
 },
 "nbformat": 4,
 "nbformat_minor": 5
}
