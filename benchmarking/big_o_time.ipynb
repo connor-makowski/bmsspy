{
 "cells": [
  {
   "cell_type": "code",
   "execution_count": 1,
   "id": "b5cb29a9",
   "metadata": {},
   "outputs": [],
   "source": [
    "from pamda import pamda"
   ]
  },
  {
   "cell_type": "code",
   "execution_count": 2,
   "id": "bdae5acb",
   "metadata": {},
   "outputs": [],
   "source": [
    "from math import log\n",
    "\n",
    "def bmssp_big_o(n, m):\n",
    "    # BMSSP has a time complexity of O(m ln(n)^(2/3))\n",
    "    return m * (log(n)**(2/3))\n",
    "\n",
    "def dijkstra_big_o(n, m):\n",
    "    # Dijkstra's algorithm as implemented in scgraph has a time complexity of O((n + m) log n)\n",
    "    return (m+n)*log(n)"
   ]
  },
  {
   "cell_type": "code",
   "execution_count": 3,
   "id": "ed7e6042",
   "metadata": {},
   "outputs": [
    {
     "name": "stdout",
     "output_type": "stream",
     "text": [
      "1089 0.09675224432158311\n",
      "1089 0.0775117430556842\n",
      "1089 0.0761341505368717\n",
      "2500 0.09357434716333758\n",
      "2500 0.08823097464076031\n",
      "2500 0.09312258497704698\n",
      "10000 0.08978226630802623\n",
      "10000 0.09536512194862767\n",
      "10000 0.09647588576105376\n",
      "40000 0.08011298173235147\n",
      "40000 0.09259871537223048\n",
      "40000 0.0876048816738958\n",
      "160000 0.09802650137709346\n",
      "160000 0.1146749154613726\n",
      "160000 0.1105968993443309\n",
      "640000 0.08553491723921039\n",
      "640000 0.09525847937627983\n",
      "640000 0.08550098402078808\n",
      "2560000 0.08674223617954024\n",
      "2560000 0.09466551627534041\n",
      "2560000 0.0999065744516583\n",
      "10240000 0.08472541107077564\n",
      "10240000 0.09502569185395306\n",
      "10240000 0.08732355674850312\n"
     ]
    }
   ],
   "source": [
    "benchmark_data =pamda.read_csv('./outputs/gridscale_time_tests.csv')\n",
    "\n",
    "for row in benchmark_data:\n",
    "    n_nodes = int(row['graph_nodes'])\n",
    "    n_edges = int(row['graph_edges'])\n",
    "    row['exp_bmssp_to_dijkstra_performance_ratio'] =  bmssp_big_o(n_nodes, n_edges) / dijkstra_big_o(n_nodes, n_edges)\n",
    "    row['real_bmssp_to_dijkstra_performance_ratio'] = float(row['bmssp_spantree_time_ms']) / float(row['sc_dijkstra_spantree_time_ms'])\n",
    "    row['pred_bmssp_breakeven_multiplier'] = row['exp_bmssp_to_dijkstra_performance_ratio'] / row['real_bmssp_to_dijkstra_performance_ratio']\n",
    "    print(row['graph_nodes'], row['pred_bmssp_breakeven_multiplier'])"
   ]
  },
  {
   "cell_type": "code",
   "execution_count": 4,
   "id": "9ee1ebae",
   "metadata": {},
   "outputs": [
    {
     "name": "stdout",
     "output_type": "stream",
     "text": [
      "{'n_magnitude': '1e1', 'connections_per_node': 8, 'bmssp_to_dijkstra_ratio': 0.6731454500719178}\n",
      "{'n_magnitude': '1e2', 'connections_per_node': 8, 'bmssp_to_dijkstra_ratio': 0.5342758977858848}\n",
      "{'n_magnitude': '1e3', 'connections_per_node': 8, 'bmssp_to_dijkstra_ratio': 0.4667329870851965}\n",
      "{'n_magnitude': '1e4', 'connections_per_node': 8, 'bmssp_to_dijkstra_ratio': 0.42405506109328384}\n",
      "{'n_magnitude': '1e5', 'connections_per_node': 8, 'bmssp_to_dijkstra_ratio': 0.3936578472815142}\n",
      "{'n_magnitude': '1e6', 'connections_per_node': 8, 'bmssp_to_dijkstra_ratio': 0.37044621734365046}\n",
      "{'n_magnitude': '1e7', 'connections_per_node': 8, 'bmssp_to_dijkstra_ratio': 0.3518921413034503}\n",
      "{'n_magnitude': '1e8', 'connections_per_node': 8, 'bmssp_to_dijkstra_ratio': 0.33657272503595886}\n",
      "{'n_magnitude': '1e9', 'connections_per_node': 8, 'bmssp_to_dijkstra_ratio': 0.32361457870687016}\n",
      "{'n_magnitude': '1e10', 'connections_per_node': 8, 'bmssp_to_dijkstra_ratio': 0.3124464404451063}\n",
      "{'n_magnitude': '1e20', 'connections_per_node': 8, 'bmssp_to_dijkstra_ratio': 0.24798890412314048}\n",
      "{'n_magnitude': '1e30', 'connections_per_node': 8, 'bmssp_to_dijkstra_ratio': 0.2166382621133386}\n",
      "{'n_magnitude': '1e40', 'connections_per_node': 8, 'bmssp_to_dijkstra_ratio': 0.19682892364075708}\n",
      "{'n_magnitude': '1e50', 'connections_per_node': 8, 'bmssp_to_dijkstra_ratio': 0.1827197868205921}\n",
      "{'n_magnitude': '1e60', 'connections_per_node': 8, 'bmssp_to_dijkstra_ratio': 0.17194590258763803}\n",
      "{'n_magnitude': '1e70', 'connections_per_node': 8, 'bmssp_to_dijkstra_ratio': 0.1633338633710185}\n",
      "{'n_magnitude': '1e80', 'connections_per_node': 8, 'bmssp_to_dijkstra_ratio': 0.1562232202225531}\n",
      "{'n_magnitude': '1e90', 'connections_per_node': 8, 'bmssp_to_dijkstra_ratio': 0.15020858149201122}\n",
      "{'n_magnitude': '1e100', 'connections_per_node': 8, 'bmssp_to_dijkstra_ratio': 0.1450247909072065}\n",
      "{'n_magnitude': '1e110', 'connections_per_node': 8, 'bmssp_to_dijkstra_ratio': 0.14048976507029934}\n",
      "{'n_magnitude': '1e120', 'connections_per_node': 8, 'bmssp_to_dijkstra_ratio': 0.1364735533246191}\n",
      "{'n_magnitude': '1e130', 'connections_per_node': 8, 'bmssp_to_dijkstra_ratio': 0.13288046235050144}\n",
      "{'n_magnitude': '1e140', 'connections_per_node': 8, 'bmssp_to_dijkstra_ratio': 0.12963817326859245}\n",
      "{'n_magnitude': '1e150', 'connections_per_node': 8, 'bmssp_to_dijkstra_ratio': 0.12669082423900202}\n",
      "{'n_magnitude': '1e160', 'connections_per_node': 8, 'bmssp_to_dijkstra_ratio': 0.12399445206157025}\n",
      "{'n_magnitude': '1e170', 'connections_per_node': 8, 'bmssp_to_dijkstra_ratio': 0.12151389469759374}\n",
      "{'n_magnitude': '1e180', 'connections_per_node': 8, 'bmssp_to_dijkstra_ratio': 0.11922063013753481}\n",
      "{'n_magnitude': '1e190', 'connections_per_node': 8, 'bmssp_to_dijkstra_ratio': 0.1170912334710763}\n",
      "{'n_magnitude': '1e200', 'connections_per_node': 8, 'bmssp_to_dijkstra_ratio': 0.1151062528237839}\n",
      "{'n_magnitude': '1e210', 'connections_per_node': 8, 'bmssp_to_dijkstra_ratio': 0.11324937565154182}\n",
      "{'n_magnitude': '1e220', 'connections_per_node': 8, 'bmssp_to_dijkstra_ratio': 0.1115068004316792}\n",
      "{'n_magnitude': '1e230', 'connections_per_node': 8, 'bmssp_to_dijkstra_ratio': 0.10986675630708095}\n",
      "{'n_magnitude': '1e240', 'connections_per_node': 8, 'bmssp_to_dijkstra_ratio': 0.10831913105666925}\n",
      "{'n_magnitude': '1e250', 'connections_per_node': 8, 'bmssp_to_dijkstra_ratio': 0.10685517955717694}\n",
      "{'n_magnitude': '1e260', 'connections_per_node': 8, 'bmssp_to_dijkstra_ratio': 0.10546729286060334}\n",
      "{'n_magnitude': '1e270', 'connections_per_node': 8, 'bmssp_to_dijkstra_ratio': 0.10414881348170207}\n",
      "{'n_magnitude': '1e280', 'connections_per_node': 8, 'bmssp_to_dijkstra_ratio': 0.1028938863108997}\n",
      "{'n_magnitude': '1e290', 'connections_per_node': 8, 'bmssp_to_dijkstra_ratio': 0.1016973372774982}\n"
     ]
    }
   ],
   "source": [
    "\n",
    "bmssp_dijkstra_big_o_ratios = []\n",
    "for magnitude in list(range(1,10)) + list(range(10,300,10)):\n",
    "    n = 10**magnitude\n",
    "    connections_per_node = 8\n",
    "    m = connections_per_node*n\n",
    "    out ={\n",
    "        'n_magnitude': f\"1e{magnitude}\",\n",
    "        'connections_per_node': connections_per_node,\n",
    "        'bmssp_to_dijkstra_ratio': bmssp_big_o(n,m)/dijkstra_big_o(n,m)\n",
    "    }\n",
    "    bmssp_dijkstra_big_o_ratios.append(out)\n",
    "    print(out)\n",
    "\n",
    "pamda.write_csv(filename='./outputs/bmssp_dijkstra_big_o_ratios.csv', data=bmssp_dijkstra_big_o_ratios)\n"
   ]
  },
  {
   "cell_type": "code",
   "execution_count": 5,
   "id": "1c0c025f",
   "metadata": {},
   "outputs": [
    {
     "name": "stdout",
     "output_type": "stream",
     "text": [
      "Predicted breakeven at multiplier = 0.0918853158704298\n",
      "Predicted breakeven at n = 1e393.17727291747116 nodes\n"
     ]
    }
   ],
   "source": [
    "from math import exp\n",
    "\n",
    "pred_breakeven_multiplier = sum([row['pred_bmssp_breakeven_multiplier'] for row in benchmark_data]) / len(benchmark_data)\n",
    "print(f\"Predicted breakeven at multiplier = {pred_breakeven_multiplier}\")\n",
    "\n",
    "# TODO: Validate math here.\n",
    "\n",
    "# Math derivation:\n",
    "#\n",
    "# BMSSP(n, m) = m * (ln n)^(2/3)\n",
    "# Dijkstra(n, m) = (n + m) * ln n\n",
    "#\n",
    "# Assume m = 8n:\n",
    "#   8n * (ln n)^(2/3) = p * (9n * ln n)\n",
    "#\n",
    "# Cancel n:\n",
    "#   8 * (ln n)^(2/3) = 9p * ln n\n",
    "#\n",
    "# Divide by (ln n)^(2/3):\n",
    "#   8 = 9p * (ln n)^(1/3)\n",
    "#\n",
    "# Solve for ln n:\n",
    "#   (ln n)^(1/3) = 8 / (9p)\n",
    "#   ln n = (8 / (9p))^3\n",
    "#\n",
    "# Finally, to get log10(n):\n",
    "#   log10(n) = ln(n) / ln(10)\n",
    "\n",
    "breakeven_magnitude_n = ((8 / (9 * pred_breakeven_multiplier)) ** (3)) / log(10)\n",
    "\n",
    "print(f\"Predicted breakeven at n = 1e{breakeven_magnitude_n} nodes\")\n"
   ]
  }
 ],
 "metadata": {
  "kernelspec": {
   "display_name": "venv (3.12.3)",
   "language": "python",
   "name": "python3"
  },
  "language_info": {
   "codemirror_mode": {
    "name": "ipython",
    "version": 3
   },
   "file_extension": ".py",
   "mimetype": "text/x-python",
   "name": "python",
   "nbconvert_exporter": "python",
   "pygments_lexer": "ipython3",
   "version": "3.12.3"
  }
 },
 "nbformat": 4,
 "nbformat_minor": 5
}
