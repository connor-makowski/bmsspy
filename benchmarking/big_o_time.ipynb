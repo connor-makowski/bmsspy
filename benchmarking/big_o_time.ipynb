{
 "cells": [
  {
   "cell_type": "code",
   "execution_count": 1,
   "id": "b5cb29a9",
   "metadata": {},
   "outputs": [],
   "source": [
    "from pamda import pamda"
   ]
  },
  {
   "cell_type": "code",
   "execution_count": 2,
   "id": "bdae5acb",
   "metadata": {},
   "outputs": [],
   "source": [
    "from math import log\n",
    "\n",
    "def bmssp_big_o(n, m):\n",
    "    # BMSSP has a time complexity of O(m log(n)^(2/3))\n",
    "    return n+m\n",
    "\n",
    "def dijkstra_big_o(n, m):\n",
    "    # Dijkstra's algorithm as implemented in scgraph has a time complexity of O((n + m) log(n)\n",
    "    return (m+n)*log(n)"
   ]
  },
  {
   "cell_type": "code",
   "execution_count": 3,
   "id": "ed7e6042",
   "metadata": {},
   "outputs": [
    {
     "name": "stdout",
     "output_type": "stream",
     "text": [
      "1089 0.006413981914440669\n",
      "1089 0.00706662794135963\n",
      "1089 0.006208066964909857\n",
      "2500 0.005960512524750273\n",
      "2500 0.0028254560359469404\n",
      "2500 0.004449354739016642\n",
      "10000 0.008153778187107061\n",
      "10000 0.005533901652331875\n",
      "10000 0.009031994534584151\n",
      "40000 0.0070930306991738665\n",
      "40000 0.007233029811888584\n",
      "40000 0.008050194704959112\n",
      "160000 0.00722055142741702\n",
      "160000 0.008683940296752552\n",
      "160000 0.008186878047965017\n",
      "640000 0.008056158079188075\n",
      "640000 0.008723085947095678\n",
      "640000 0.008431053937284735\n",
      "2560000 0.007506795100412549\n",
      "2560000 0.008090829344864266\n",
      "2560000 0.008225667259457416\n",
      "10240000 0.007694341098130258\n",
      "10240000 0.008528285072118407\n",
      "10240000 0.008231932278122913\n"
     ]
    }
   ],
   "source": [
    "benchmark_data =pamda.read_csv('./outputs/gridscale_time_tests.csv')\n",
    "\n",
    "for row in benchmark_data:\n",
    "    n_nodes = int(row['graph_nodes'])\n",
    "    n_edges = int(row['graph_edges'])\n",
    "    row['exp_bmssp_to_dijkstra_performance_ratio'] =  bmssp_big_o(n_nodes, n_edges) / dijkstra_big_o(n_nodes, n_edges)\n",
    "    row['real_bmssp_to_dijkstra_performance_ratio'] = float(row['bmssp_spantree_time_ms']) / float(row['sc_dijkstra_spantree_time_ms'])\n",
    "    row['pred_bmssp_breakeven_multiplier'] = row['exp_bmssp_to_dijkstra_performance_ratio'] / row['real_bmssp_to_dijkstra_performance_ratio']\n",
    "    print(row['graph_nodes'], row['pred_bmssp_breakeven_multiplier'])"
   ]
  },
  {
   "cell_type": "code",
   "execution_count": 4,
   "id": "9ee1ebae",
   "metadata": {},
   "outputs": [
    {
     "name": "stdout",
     "output_type": "stream",
     "text": [
      "{'n_magnitude': '1e1', 'connections_per_node': 8, 'bmssp_to_dijkstra_ratio': 0.43429448190325176}\n",
      "{'n_magnitude': '1e2', 'connections_per_node': 8, 'bmssp_to_dijkstra_ratio': 0.2171472409516259}\n",
      "{'n_magnitude': '1e3', 'connections_per_node': 8, 'bmssp_to_dijkstra_ratio': 0.14476482730108395}\n",
      "{'n_magnitude': '1e4', 'connections_per_node': 8, 'bmssp_to_dijkstra_ratio': 0.10857362047581294}\n",
      "{'n_magnitude': '1e5', 'connections_per_node': 8, 'bmssp_to_dijkstra_ratio': 0.08685889638065036}\n",
      "{'n_magnitude': '1e6', 'connections_per_node': 8, 'bmssp_to_dijkstra_ratio': 0.07238241365054197}\n",
      "{'n_magnitude': '1e7', 'connections_per_node': 8, 'bmssp_to_dijkstra_ratio': 0.06204206884332169}\n",
      "{'n_magnitude': '1e8', 'connections_per_node': 8, 'bmssp_to_dijkstra_ratio': 0.05428681023790647}\n",
      "{'n_magnitude': '1e9', 'connections_per_node': 8, 'bmssp_to_dijkstra_ratio': 0.048254942433694645}\n",
      "{'n_magnitude': '1e10', 'connections_per_node': 8, 'bmssp_to_dijkstra_ratio': 0.04342944819032518}\n",
      "{'n_magnitude': '1e20', 'connections_per_node': 8, 'bmssp_to_dijkstra_ratio': 0.02171472409516259}\n",
      "{'n_magnitude': '1e30', 'connections_per_node': 8, 'bmssp_to_dijkstra_ratio': 0.014476482730108396}\n",
      "{'n_magnitude': '1e40', 'connections_per_node': 8, 'bmssp_to_dijkstra_ratio': 0.010857362047581295}\n",
      "{'n_magnitude': '1e50', 'connections_per_node': 8, 'bmssp_to_dijkstra_ratio': 0.008685889638065037}\n",
      "{'n_magnitude': '1e60', 'connections_per_node': 8, 'bmssp_to_dijkstra_ratio': 0.007238241365054197}\n",
      "{'n_magnitude': '1e70', 'connections_per_node': 8, 'bmssp_to_dijkstra_ratio': 0.006204206884332168}\n",
      "{'n_magnitude': '1e80', 'connections_per_node': 8, 'bmssp_to_dijkstra_ratio': 0.005428681023790648}\n",
      "{'n_magnitude': '1e90', 'connections_per_node': 8, 'bmssp_to_dijkstra_ratio': 0.004825494243369465}\n",
      "{'n_magnitude': '1e100', 'connections_per_node': 8, 'bmssp_to_dijkstra_ratio': 0.004342944819032518}\n",
      "{'n_magnitude': '1e110', 'connections_per_node': 8, 'bmssp_to_dijkstra_ratio': 0.003948131653665926}\n",
      "{'n_magnitude': '1e120', 'connections_per_node': 8, 'bmssp_to_dijkstra_ratio': 0.0036191206825270986}\n",
      "{'n_magnitude': '1e130', 'connections_per_node': 8, 'bmssp_to_dijkstra_ratio': 0.0033407267838711677}\n",
      "{'n_magnitude': '1e140', 'connections_per_node': 8, 'bmssp_to_dijkstra_ratio': 0.0031021034421660843}\n",
      "{'n_magnitude': '1e150', 'connections_per_node': 8, 'bmssp_to_dijkstra_ratio': 0.0028952965460216787}\n",
      "{'n_magnitude': '1e160', 'connections_per_node': 8, 'bmssp_to_dijkstra_ratio': 0.0027143405118953234}\n",
      "{'n_magnitude': '1e170', 'connections_per_node': 8, 'bmssp_to_dijkstra_ratio': 0.0025546734229603047}\n",
      "{'n_magnitude': '1e180', 'connections_per_node': 8, 'bmssp_to_dijkstra_ratio': 0.0024127471216847324}\n",
      "{'n_magnitude': '1e190', 'connections_per_node': 8, 'bmssp_to_dijkstra_ratio': 0.0022857604310697467}\n",
      "{'n_magnitude': '1e200', 'connections_per_node': 8, 'bmssp_to_dijkstra_ratio': 0.002171472409516259}\n",
      "{'n_magnitude': '1e210', 'connections_per_node': 8, 'bmssp_to_dijkstra_ratio': 0.0020680689614440565}\n",
      "{'n_magnitude': '1e220', 'connections_per_node': 8, 'bmssp_to_dijkstra_ratio': 0.001974065826832963}\n",
      "{'n_magnitude': '1e230', 'connections_per_node': 8, 'bmssp_to_dijkstra_ratio': 0.0018882368778402256}\n",
      "{'n_magnitude': '1e240', 'connections_per_node': 8, 'bmssp_to_dijkstra_ratio': 0.0018095603412635493}\n",
      "{'n_magnitude': '1e250', 'connections_per_node': 8, 'bmssp_to_dijkstra_ratio': 0.0017371779276130074}\n",
      "{'n_magnitude': '1e260', 'connections_per_node': 8, 'bmssp_to_dijkstra_ratio': 0.0016703633919355838}\n",
      "{'n_magnitude': '1e270', 'connections_per_node': 8, 'bmssp_to_dijkstra_ratio': 0.001608498081123155}\n",
      "{'n_magnitude': '1e280', 'connections_per_node': 8, 'bmssp_to_dijkstra_ratio': 0.0015510517210830421}\n",
      "{'n_magnitude': '1e290', 'connections_per_node': 8, 'bmssp_to_dijkstra_ratio': 0.0014975671789767306}\n"
     ]
    }
   ],
   "source": [
    "\n",
    "bmssp_dijkstra_big_o_ratios = []\n",
    "for magnitude in list(range(1,10)) + list(range(10,300,10)):\n",
    "    n = 10**magnitude\n",
    "    connections_per_node = 8\n",
    "    m = connections_per_node*n\n",
    "    out ={\n",
    "        'n_magnitude': f\"1e{magnitude}\",\n",
    "        'connections_per_node': connections_per_node,\n",
    "        'bmssp_to_dijkstra_ratio': bmssp_big_o(n,m)/dijkstra_big_o(n,m)\n",
    "    }\n",
    "    bmssp_dijkstra_big_o_ratios.append(out)\n",
    "    print(out)\n",
    "\n",
    "pamda.write_csv(filename='./outputs/bmssp_dijkstra_big_o_ratios.csv', data=bmssp_dijkstra_big_o_ratios)\n"
   ]
  },
  {
   "cell_type": "code",
   "execution_count": 5,
   "id": "1c0c025f",
   "metadata": {},
   "outputs": [
    {
     "name": "stdout",
     "output_type": "stream",
     "text": [
      "Predicted breakeven at multiplier = 0.007316643649969898\n",
      "Predicted breakeven at n = 1e778737.4002938061 nodes\n"
     ]
    }
   ],
   "source": [
    "from math import exp\n",
    "\n",
    "pred_breakeven_multiplier = sum([row['pred_bmssp_breakeven_multiplier'] for row in benchmark_data]) / len(benchmark_data)\n",
    "print(f\"Predicted breakeven at multiplier = {pred_breakeven_multiplier}\")\n",
    "\n",
    "# TODO: Validate math here.\n",
    "\n",
    "# Math derivation:\n",
    "#\n",
    "# BMSSP(n, m) = m * (ln n)^(2/3)\n",
    "# Dijkstra(n, m) = (n + m) * ln n\n",
    "#\n",
    "# Assume m = 8n:\n",
    "#   8n * (ln n)^(2/3) = p * (9n * ln n)\n",
    "#\n",
    "# Cancel n:\n",
    "#   8 * (ln n)^(2/3) = 9p * ln n\n",
    "#\n",
    "# Divide by (ln n)^(2/3):\n",
    "#   8 = 9p * (ln n)^(1/3)\n",
    "#\n",
    "# Solve for ln n:\n",
    "#   (ln n)^(1/3) = 8 / (9p)\n",
    "#   ln n = (8 / (9p))^3\n",
    "#\n",
    "# Finally, to get log10(n):\n",
    "#   log10(n) = ln(n) / ln(10)\n",
    "\n",
    "breakeven_magnitude_n = ((8 / (9 * pred_breakeven_multiplier)) ** (3)) / log(10)\n",
    "\n",
    "print(f\"Predicted breakeven at n = 1e{breakeven_magnitude_n} nodes\")\n"
   ]
  }
 ],
 "metadata": {
  "kernelspec": {
   "display_name": "venv (3.12.3)",
   "language": "python",
   "name": "python3"
  },
  "language_info": {
   "codemirror_mode": {
    "name": "ipython",
    "version": 3
   },
   "file_extension": ".py",
   "mimetype": "text/x-python",
   "name": "python",
   "nbconvert_exporter": "python",
   "pygments_lexer": "ipython3",
   "version": "3.12.3"
  }
 },
 "nbformat": 4,
 "nbformat_minor": 5
}
